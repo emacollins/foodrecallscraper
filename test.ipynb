{
 "cells": [
  {
   "cell_type": "code",
   "execution_count": 28,
   "metadata": {},
   "outputs": [
    {
     "name": "stdout",
     "output_type": "stream",
     "text": [
      "Company Announcement\n",
      "Wesco, Inc. of Muskegon, MI is recalling 750 units of Wesco Mint No Bake Cookie Bites, because it may contain undeclared peanut. People who have an allergy or severe sensitivity to peanuts run the risk of serious or life-threatening allergic reaction if they consume these products.\n",
      "The affected Wesco Mint No Bake Cookie Bites were distributed to Wesco convenience stores throughout the lower peninsula of Michigan.\n",
      "Wesco Mint No Bake Cookie Bites (UPC 750308040474) are packaged in clear 9 oz plastic cups. The following Sell Thru dates were affected:03/15/2024, 03/16/2024, 03/17/2024, 03/18/2024.\n",
      "Symptoms of allergic reaction include: hives, flushed skin or rash, tingling or itchy sensation in the mouth, swelling of the face, tongue, or lips, vomiting and/or diarrhea, abdominal cramps, coughing or wheezing, swelling of the throat and vocal cords, difficulty breathing, and loss of consciousness. More information about food allergies can be found at www.fda.gov/food/food-labeling-nutrition/food-allergies.\n",
      "No illnesses have been reported to date.\n",
      "The recall was initiated after it was discovered that Wesco Mint No Bake Cookie Bites containing peanut butter were distributed in packaging that did not reveal the presence of peanuts. Subsequent investigation indicates the problem was caused by incorrect product formulation within the manufacturing facility’s new software system.\n",
      "Consumers who have purchased Wesco Mint No Bake Cookie Bites with Sell Thru dates of 03/15/2024, 03/16/2024, 03/17/2024, 03/18/2024 are urged to return it to the place of purchase for a full refund. Consumers with questions may contact the company at 231-719-4385 or through email at recall@wescoinc.com.\n",
      " \n"
     ]
    }
   ],
   "source": [
    "from bs4 import BeautifulSoup\n",
    "import requests\n",
    "\n",
    "# URL of the page to scrape\n",
    "url = 'https://www.fda.gov/safety/recalls-market-withdrawals-safety-alerts/wesco-inc-issues-voluntary-recall-and-allergy-alert-undeclared-peanut-wesco-mint-no-bake-cookie'\n",
    "\n",
    "# Send a request to fetch the HTML content\n",
    "response = requests.get(url)\n",
    "html_content = response.text\n",
    "\n",
    "# Parse the HTML content with BeautifulSoup\n",
    "soup = BeautifulSoup(html_content, 'html.parser')\n",
    "\n",
    "# Find the <h2> tag with id 'recall-announcement'\n",
    "h2_tag = soup.find('h2', id='recall-announcement')\n",
    "\n",
    "# Initialize an empty list to store paragraphs\n",
    "announcement_text = []\n",
    "\n",
    "# Add the h2 text to the list\n",
    "announcement_text.append(h2_tag.text)\n",
    "\n",
    "# Loop through the sibling elements of the h2 tag to find <p> tags\n",
    "for sibling in h2_tag.find_next_siblings():\n",
    "    if sibling.name == 'p':\n",
    "        announcement_text.append(sibling.text)\n",
    "    else:\n",
    "        break  # Stop if the next sibling is not a <p> tag\n",
    "\n",
    "# Print the extracted announcement text\n",
    "for paragraph in announcement_text:\n",
    "    print(paragraph)\n"
   ]
  },
  {
   "cell_type": "code",
   "execution_count": 30,
   "metadata": {},
   "outputs": [
    {
     "data": {
      "text/plain": [
       "'Company Announcement Wesco, Inc. of Muskegon, MI is recalling 750 units of Wesco Mint No Bake Cookie Bites, because it may contain undeclared peanut. People who have an allergy or severe sensitivity to peanuts run the risk of serious or life-threatening allergic reaction if they consume these products. The affected Wesco Mint No Bake Cookie Bites were distributed to Wesco convenience stores throughout the lower peninsula of Michigan. Wesco Mint No Bake Cookie Bites (UPC 750308040474) are packaged in clear 9 oz plastic cups. The following Sell Thru dates were affected:03/15/2024, 03/16/2024, 03/17/2024, 03/18/2024. Symptoms of allergic reaction include: hives, flushed skin or rash, tingling or itchy sensation in the mouth, swelling of the face, tongue, or lips, vomiting and/or diarrhea, abdominal cramps, coughing or wheezing, swelling of the throat and vocal cords, difficulty breathing, and loss of consciousness. More information about food allergies can be found at www.fda.gov/food/food-labeling-nutrition/food-allergies. No illnesses have been reported to date. The recall was initiated after it was discovered that Wesco Mint No Bake Cookie Bites containing peanut butter were distributed in packaging that did not reveal the presence of peanuts. Subsequent investigation indicates the problem was caused by incorrect product formulation within the manufacturing facility’s new software system. Consumers who have purchased Wesco Mint No Bake Cookie Bites with Sell Thru dates of 03/15/2024, 03/16/2024, 03/17/2024, 03/18/2024 are urged to return it to the place of purchase for a full refund. Consumers with questions may contact the company at 231-719-4385 or through email at recall@wescoinc.com. \\xa0'"
      ]
     },
     "execution_count": 30,
     "metadata": {},
     "output_type": "execute_result"
    }
   ],
   "source": [
    "\" \".join(announcement_text)"
   ]
  },
  {
   "cell_type": "code",
   "execution_count": null,
   "metadata": {},
   "outputs": [],
   "source": []
  }
 ],
 "metadata": {
  "kernelspec": {
   "display_name": "fdascraper",
   "language": "python",
   "name": "python3"
  },
  "language_info": {
   "codemirror_mode": {
    "name": "ipython",
    "version": 3
   },
   "file_extension": ".py",
   "mimetype": "text/x-python",
   "name": "python",
   "nbconvert_exporter": "python",
   "pygments_lexer": "ipython3",
   "version": "3.12.2"
  }
 },
 "nbformat": 4,
 "nbformat_minor": 2
}
